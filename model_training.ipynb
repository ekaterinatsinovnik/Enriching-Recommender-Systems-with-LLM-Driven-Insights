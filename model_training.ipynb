{
 "cells": [
  {
   "cell_type": "code",
   "execution_count": 1,
   "id": "0b14f25e",
   "metadata": {},
   "outputs": [
    {
     "name": "stderr",
     "output_type": "stream",
     "text": [
      "/home/kate/miniconda3/envs/sna2/lib/python3.8/site-packages/sentence_transformers/cross_encoder/CrossEncoder.py:13: TqdmExperimentalWarning: Using `tqdm.autonotebook.tqdm` in notebook mode. Use `tqdm.tqdm` instead to force console mode (e.g. in jupyter console)\n",
      "  from tqdm.autonotebook import tqdm, trange\n"
     ]
    }
   ],
   "source": [
    "import os\n",
    "import json\n",
    "import torch\n",
    "import polars as pl\n",
    "import numpy as np\n",
    "import tqdm\n",
    "import pandas as pd\n",
    "from recbole.config import Config\n",
    "from recbole.data import create_dataset, data_preparation\n",
    "from recbole.trainer import Trainer\n",
    "from recbole.evaluator import Evaluator\n",
    "from recbole.model.general_recommender.lightgcn import LightGCN\n",
    "from recbole.model.context_aware_recommender.deepfm import DeepFM\n",
    "from recbole.utils import init_seed\n",
    "import faiss\n",
    "from sentence_transformers import SentenceTransformer\n",
    "import openai\n",
    "\n",
    "\n",
    "import warnings\n",
    "warnings.filterwarnings(\"ignore\")"
   ]
  },
  {
   "cell_type": "code",
   "execution_count": 127,
   "id": "1b434e2e",
   "metadata": {},
   "outputs": [],
   "source": [
    "DATA_ROOT = \"./data/\"\n",
    "INTERS_DATA_PATH = \"data/ml-1m/ml-1m.inter\"\n",
    "MOVIES_PATH = \"data/ml-1m/ml-1m.item\" \n",
    "EMB_PATH  = \"mv_user_embeddings_best.pt\"\n",
    "SEED_PATH  = \"diverse_seed_indices.json\"\n",
    "BERT_MODEL  = \"all-MiniLM-L6-v2\"\n",
    "RATIONALE_INDEX_PATH  = \"llm_rationale/index.faiss\"\n",
    "RATIONALE_EMB_PATH = \"llm_rationale/embeddings.npy\"\n",
    "RATIONALE_META_PATH = \"llm_rationale/meta.json\"\n",
    "TOP_K_ITEMS = 10 \n",
    "DEVICE = \"cuda\" if torch.cuda.is_available() else \"cpu\""
   ]
  },
  {
   "cell_type": "code",
   "execution_count": 83,
   "id": "8a24bf13",
   "metadata": {},
   "outputs": [
    {
     "data": {
      "text/plain": [
       "array([ 483, 5831, 1203, 1489, 3885,  302, 1611,    0,  999, 5172, 4577,\n",
       "       5522, 5359,   26, 1605, 1607, 3836, 6036, 1160,  889])"
      ]
     },
     "execution_count": 83,
     "metadata": {},
     "output_type": "execute_result"
    }
   ],
   "source": [
    "with open(SEED_PATH, \"r\") as f:\n",
    "    seed_idxs = np.array(json.load(f))\n",
    "\n",
    "seed_idxs"
   ]
  },
  {
   "cell_type": "code",
   "execution_count": 4,
   "id": "fa89d9d5",
   "metadata": {},
   "outputs": [],
   "source": [
    "ratings = pd.read_csv(INTERS_DATA_PATH, sep=\"\\t\", names=[\"user_id\", \"movie_id\", \"rating\", \"ts\"], header=None, low_memory=False).iloc[1:]\n",
    "movies = pd.read_csv(MOVIES_PATH, sep=\"\\t\", names=[\"movie_id\",\"title\", \"year\", \"genres\"],header=None, low_memory=False).iloc[1:]\n",
    "\n",
    "ratings_sorted = ratings.sort_values(\n",
    "    [\"user_id\", \"rating\", \"ts\"], ascending=[True, False, False]\n",
    ")\n",
    "ratings_sorted = ratings_sorted.merge(movies[[\"movie_id\",\"title\", \"genres\"]], on=\"movie_id\", how=\"inner\")\n",
    "user_top_titles = (\n",
    "    ratings_sorted\n",
    "      .groupby(\"user_id\")\n",
    "      .apply(\n",
    "          lambda df: [\n",
    "              f\"{title} ({genre})\"\n",
    "              for title, genre in zip(df[\"title\"], df[\"genres\"])\n",
    "          ][:TOP_K_ITEMS]\n",
    "      )\n",
    ")"
   ]
  },
  {
   "cell_type": "code",
   "execution_count": 5,
   "id": "c87bdcb6",
   "metadata": {},
   "outputs": [
    {
     "data": {
      "text/plain": [
       "[\"Toy Story (Animation Children's Comedy)\",\n",
       " 'Erin Brockovich (Drama)',\n",
       " 'Lost in Space (Action Sci-Fi Thriller)',\n",
       " \"Breakfast at Tiffany's (Drama Romance)\",\n",
       " 'Star Trek: First Contact (Action Adventure Sci-Fi)',\n",
       " 'Men in Black (Action Adventure Comedy Sci-Fi)',\n",
       " 'Rocketeer, The (Action Adventure Sci-Fi)',\n",
       " 'Starship Troopers (Action Adventure Sci-Fi War)',\n",
       " \"Rescuers, The (Animation Children's)\",\n",
       " 'Star Trek VI: The Undiscovered Country (Action Adventure Sci-Fi)']"
      ]
     },
     "execution_count": 5,
     "metadata": {},
     "output_type": "execute_result"
    }
   ],
   "source": [
    "user_top_titles.get(seed_idxs[0])"
   ]
  },
  {
   "cell_type": "code",
   "execution_count": null,
   "id": "af1c9785",
   "metadata": {},
   "outputs": [],
   "source": [
    "openai.api_key = os.getenv(\"OPENAI_API_KEY\")\n",
    "\n",
    "rationale_texts = []\n",
    "rationale_meta  = []\n",
    "for uid in tqdm.tqdm(seed_idxs, desc=\"Generating ML rationales\"):\n",
    "    titles = user_top_titles.get(uid, [])\n",
    "    prompt = (\n",
    "        f\"The user rated these movies highly: {titles}. \"\n",
    "        \"Write a brief rationale explaining the user's movie preferences and suggest 3 movies for this user.\"\n",
    "    )\n",
    "    resp = openai.ChatCompletion.create(\n",
    "        model=\"o3\",\n",
    "        messages=[\n",
    "            {\"role\":\"system\",\"content\":\"You are a movie recommender rationale generator.\"},\n",
    "            {\"role\":\"user\",\"content\":prompt}\n",
    "        ],\n",
    "        max_tokens=250,\n",
    "    )\n",
    "    text = resp.choices[0].message.content.strip()\n",
    "    rid = len(rationale_texts)\n",
    "    rationale_texts.append(text)\n",
    "    rationale_meta.append({\n",
    "        \"seed_user_idx\": uid,\n",
    "        \"rationale_idx\": rid,\n",
    "        \"text\": text\n",
    "    })"
   ]
  },
  {
   "cell_type": "code",
   "execution_count": 64,
   "id": "61ca8d59",
   "metadata": {},
   "outputs": [],
   "source": [
    "bert = SentenceTransformer(BERT_MODEL, device=DEVICE)\n",
    "rationale_embeddings = bert.encode(\n",
    "    rationale_texts,\n",
    "    convert_to_numpy=True,\n",
    "    normalize_embeddings=True\n",
    ")\n",
    "\n",
    "dim = rationale_embeddings.shape[1]\n",
    "index = faiss.IndexFlatIP(dim)\n",
    "index.add(rationale_embeddings)\n",
    "faiss.write_index(index, RATIONALE_INDEX_PATH)\n",
    "\n",
    "np.save(RATIONALE_EMB_PATH, rationale_embeddings)\n",
    "with open(RATIONALE_META_PATH, \"w\") as f:\n",
    "    json.dump(rationale_meta, f, indent=2)"
   ]
  },
  {
   "cell_type": "code",
   "execution_count": 70,
   "id": "0964ec33",
   "metadata": {},
   "outputs": [],
   "source": [
    "user_embs  = torch.load(EMB_PATH)\n",
    "user_embs = user_embs.numpy()\n",
    "faiss.normalize_L2(user_embs)\n",
    "user_embs.shape\n",
    "\n",
    "seed_embs = user_embs[np.array(seed_idxs)]\n",
    "faiss.normalize_L2(seed_embs)\n",
    "d = seed_embs.shape[1]\n",
    "seed_index = faiss.IndexFlatIP(d)\n",
    "seed_index.add(seed_embs)\n",
    "\n",
    "_, I_seed = seed_index.search(user_embs, 1)\n",
    "I_seed = I_seed[:, 0]  "
   ]
  },
  {
   "cell_type": "code",
   "execution_count": null,
   "id": "46490a12",
   "metadata": {},
   "outputs": [],
   "source": [
    "llm_embs = np.load(RATIONALE_EMB_PATH) \n",
    "meta  = json.load(open(RATIONALE_META_PATH, 'r'))"
   ]
  },
  {
   "cell_type": "code",
   "execution_count": 73,
   "id": "834de31e",
   "metadata": {},
   "outputs": [
    {
     "data": {
      "text/plain": [
       "{'seed_user_idx': 483,\n",
       " 'rationale_idx': 1,\n",
       " 'text': '\\n1. Action-Adventure Sci-Fi with a Sense of Fun\\n   You gravitate toward high-energy, effects-driven stories set in space or involving futuristic tech—*Star Trek: First Contact*, *Men in Black*, *The Rocketeer*—but you also appreciate a light touch of humor (*Men in Black*, *Men in Black II*) and a spirit of wonder (*Lost in Space*).\\n\\n2. Strong Character-Driven Drama\\n   Beyond the sci-fi thrills, you enjoy grounded, emotionally rich narratives—*Erin Brockovich* and *Breakfast at Tiffany’s*—that hinge on compelling performances and personal stakes.\\n\\n3. Family-Friendly Animation\\n   You like animated adventures that balance childlike charm with smart, witty scripts—*Toy Story* and *The Rescuers*—showing you value heart and humor that play equally to kids and grown-ups.\\n\\n### Three Films suggestions\\n\\n1. Galaxy Quest (1999)\\n   A loving send-up of space-opera fandom, this action-adventure sci-fi comedy follows washed-up TV actors who must become real heroes when they’re beamed aboard an alien ship. It nails the blend of earnest sci-fi spectacle and sharp satire you seem to enjoy.\\n\\n2. The Fifth Element (1997)\\n   Luc Besson’s vivid, fast-paced epic merges big-budget futurism with screwball humor and a charismatic pair of leads. Its wild visuals and heroic quest resonate with your taste for colorful, action-packed sci-fi adventures.\\n\\n3. Back to the Future (1985)\\n   A timeless blockbuster that marries sci-fi time-travel mechanics with effortless comedy and a warm, character-first story. Michael J. Fox’s charm and the film’s inventive set-pieces should click if you loved the energy of *Lost in Space* and the heart of *Toy Story*.\\n    '}"
      ]
     },
     "execution_count": 73,
     "metadata": {},
     "output_type": "execute_result"
    }
   ],
   "source": [
    "meta[0]"
   ]
  },
  {
   "cell_type": "code",
   "execution_count": 122,
   "id": "ecc38231",
   "metadata": {},
   "outputs": [
    {
     "data": {
      "text/plain": [
       "(6041, 384)"
      ]
     },
     "execution_count": 122,
     "metadata": {},
     "output_type": "execute_result"
    }
   ],
   "source": [
    "seed_to_rid = { entry[\"seed_user_idx\"]: entry[\"rationale_idx\"] for entry in meta }\n",
    "\n",
    "nearest_seed_user_idx = seed_idxs[I_seed] \n",
    "nearest_rid = np.array([seed_to_rid[uid] - 1 for uid in nearest_seed_user_idx])\n",
    "\n",
    "user_llm_emb = llm_embs[nearest_rid, :]\n",
    "user_llm_emb.shape"
   ]
  },
  {
   "cell_type": "code",
   "execution_count": 124,
   "id": "366dd1ba",
   "metadata": {},
   "outputs": [
    {
     "data": {
      "text/plain": [
       "(6041, 512)"
      ]
     },
     "execution_count": 124,
     "metadata": {},
     "output_type": "execute_result"
    }
   ],
   "source": [
    "fused = np.concatenate([user_embs, user_llm_emb], axis=1)\n",
    "fused.shape"
   ]
  },
  {
   "cell_type": "code",
   "execution_count": null,
   "id": "fa859daf",
   "metadata": {},
   "outputs": [],
   "source": [
    "d_fused = fused.shape[1]\n",
    "\n",
    "ml_folder = os.path.join(DATA_ROOT, \"ml-1m\")\n",
    "os.makedirs(ml_folder, exist_ok=True)\n",
    "feat_file = os.path.join(ml_folder, \"ml-1m_user_feat.tsv\")\n",
    "\n",
    "with open(feat_file, \"w\") as fout:\n",
    "    header = [\"user_id:token\"] + [f\"f{i}:float\" for i in range(d_fused)]\n",
    "    fout.write(\"\\t\".join(header) + \"\\n\")\n",
    "    for uid_token in range(1, user_embs.shape[0]+1):\n",
    "        idx = uid_token-1  # zero-based index\n",
    "        vec = fused[idx]\n",
    "        row = [str(uid_token)] + [f\"{v:.6f}\" for v in vec]\n",
    "        fout.write(\"\\t\".join(row) + \"\\n\")"
   ]
  },
  {
   "cell_type": "code",
   "execution_count": null,
   "id": "11ea5514",
   "metadata": {},
   "outputs": [],
   "source": [
    "SEED           = 2025\n",
    "EMB_SIZE       = 512\n",
    "N_LAYERS       = 3\n",
    "REG_WEIGHT     = 1e-5\n",
    "LR             = 1e-3\n",
    "BATCH_SIZE     = 2048\n",
    "EPOCHS         = 20\n",
    "\n",
    "def run_experiment(use_user_features=False):\n",
    "    config_dict = {\n",
    "        \"data_path\": DATA_ROOT,\n",
    "        \"seed\": SEED,\n",
    "        \"train_batch_size\": BATCH_SIZE,\n",
    "        \"eval_batch_size\": BATCH_SIZE,\n",
    "        \"learning_rate\": LR,\n",
    "        \"epochs\": EPOCHS,\n",
    "        # \"load_col\": {\"inter\": [\"user_id\", \"movie_id\", \"rating\"]},\n",
    "        # \"USER_ID_FIELD\":  \"user_id\",\n",
    "        # \"ITEM_ID_FIELD\":  \"movie_id\",\n",
    "        # \"RATING_FIELD\":   \"rating\",\n",
    "        # \"LABEL_FIELD\"       : \"label\",\n",
    "        #     \"RATING_FIELD\"      : \"rating\",\n",
    "        # \"LABEL_FIELD\"       : \"rating\",\n",
    "    }\n",
    "\n",
    "    if use_user_features:\n",
    "        config_dict.update({\n",
    "            \"USER_SIDE_DATA\": True,\n",
    "            \"USER_FEATURE_FIELDS\": [f\"f{i}\" for i in range(d_fused)],\n",
    "        })\n",
    "    config = Config(\n",
    "        model       = LightGCN,\n",
    "        dataset     = \"ml-1m\",\n",
    "        config_dict = config_dict\n",
    "    )\n",
    "    init_seed(SEED, reproducibility=True)\n",
    "    dataset = create_dataset(config)\n",
    "    train, valid, test = data_preparation(config, dataset)\n",
    "\n",
    "    model = LightGCN(config, dataset).to(DEVICE)\n",
    "    trainer = Trainer(config, model)\n",
    "    best_model = trainer.fit(train, valid, show_progress = True)\n",
    "\n",
    "    test_result = trainer.evaluate(test, load_best_model=True)\n",
    "    return test_result"
   ]
  },
  {
   "cell_type": "code",
   "execution_count": null,
   "id": "045db8dc",
   "metadata": {},
   "outputs": [
    {
     "data": {
      "text/plain": [
       "OrderedDict([('recall@10', 0.1416),\n",
       "             ('mrr@10', 0.4298),\n",
       "             ('ndcg@10', 0.2357),\n",
       "             ('hit@10', 0.6974),\n",
       "             ('precision@10', 0.1837)])"
      ]
     },
     "execution_count": 164,
     "metadata": {},
     "output_type": "execute_result"
    }
   ],
   "source": [
    "baseline = run_experiment(use_user_features=False)\n",
    "baseline"
   ]
  },
  {
   "cell_type": "code",
   "execution_count": 172,
   "id": "6d59801d",
   "metadata": {},
   "outputs": [
    {
     "name": "stderr",
     "output_type": "stream",
     "text": [
      "\u001b[1;35mTrain     0\u001b[0m: 100%|████████████████████████| 394/394 [00:35<00:00, 10.98it/s, \u001b[1;33mGPU RAM: 0.44 G/5.93 G\u001b[0m]\u001b[0m\n",
      "\u001b[1;35mEvaluate   \u001b[0m: 100%|█████████████████████| 6040/6040 [00:22<00:00, 266.47it/s, \u001b[1;33mGPU RAM: 0.44 G/5.93 G\u001b[0m]\u001b[0m\n",
      "\u001b[1;35mTrain     1\u001b[0m: 100%|████████████████████████| 394/394 [00:35<00:00, 11.07it/s, \u001b[1;33mGPU RAM: 0.44 G/5.93 G\u001b[0m]\u001b[0m\n",
      "\u001b[1;35mEvaluate   \u001b[0m: 100%|█████████████████████| 6040/6040 [00:22<00:00, 269.18it/s, \u001b[1;33mGPU RAM: 0.44 G/5.93 G\u001b[0m]\u001b[0m\n",
      "\u001b[1;35mTrain     2\u001b[0m: 100%|████████████████████████| 394/394 [00:35<00:00, 11.08it/s, \u001b[1;33mGPU RAM: 0.44 G/5.93 G\u001b[0m]\u001b[0m\n",
      "\u001b[1;35mEvaluate   \u001b[0m: 100%|█████████████████████| 6040/6040 [00:21<00:00, 278.27it/s, \u001b[1;33mGPU RAM: 0.44 G/5.93 G\u001b[0m]\u001b[0m\n",
      "\u001b[1;35mTrain     3\u001b[0m: 100%|████████████████████████| 394/394 [00:35<00:00, 11.05it/s, \u001b[1;33mGPU RAM: 0.44 G/5.93 G\u001b[0m]\u001b[0m\n",
      "\u001b[1;35mEvaluate   \u001b[0m: 100%|█████████████████████| 6040/6040 [00:22<00:00, 269.49it/s, \u001b[1;33mGPU RAM: 0.44 G/5.93 G\u001b[0m]\u001b[0m\n",
      "\u001b[1;35mTrain     4\u001b[0m: 100%|████████████████████████| 394/394 [00:35<00:00, 11.02it/s, \u001b[1;33mGPU RAM: 0.44 G/5.93 G\u001b[0m]\u001b[0m\n",
      "\u001b[1;35mEvaluate   \u001b[0m: 100%|█████████████████████| 6040/6040 [00:22<00:00, 266.39it/s, \u001b[1;33mGPU RAM: 0.44 G/5.93 G\u001b[0m]\u001b[0m\n",
      "\u001b[1;35mTrain     5\u001b[0m: 100%|████████████████████████| 394/394 [00:35<00:00, 11.02it/s, \u001b[1;33mGPU RAM: 0.44 G/5.93 G\u001b[0m]\u001b[0m\n",
      "\u001b[1;35mEvaluate   \u001b[0m: 100%|█████████████████████| 6040/6040 [00:23<00:00, 258.67it/s, \u001b[1;33mGPU RAM: 0.44 G/5.93 G\u001b[0m]\u001b[0m\n",
      "\u001b[1;35mTrain     6\u001b[0m: 100%|████████████████████████| 394/394 [00:35<00:00, 11.03it/s, \u001b[1;33mGPU RAM: 0.44 G/5.93 G\u001b[0m]\u001b[0m\n",
      "\u001b[1;35mEvaluate   \u001b[0m: 100%|█████████████████████| 6040/6040 [00:22<00:00, 263.94it/s, \u001b[1;33mGPU RAM: 0.44 G/5.93 G\u001b[0m]\u001b[0m\n",
      "\u001b[1;35mTrain     7\u001b[0m: 100%|████████████████████████| 394/394 [00:35<00:00, 11.05it/s, \u001b[1;33mGPU RAM: 0.44 G/5.93 G\u001b[0m]\u001b[0m\n",
      "\u001b[1;35mEvaluate   \u001b[0m: 100%|█████████████████████| 6040/6040 [00:22<00:00, 265.77it/s, \u001b[1;33mGPU RAM: 0.44 G/5.93 G\u001b[0m]\u001b[0m\n",
      "\u001b[1;35mTrain     8\u001b[0m: 100%|████████████████████████| 394/394 [00:35<00:00, 11.05it/s, \u001b[1;33mGPU RAM: 0.44 G/5.93 G\u001b[0m]\u001b[0m\n",
      "\u001b[1;35mEvaluate   \u001b[0m: 100%|█████████████████████| 6040/6040 [00:23<00:00, 261.84it/s, \u001b[1;33mGPU RAM: 0.44 G/5.93 G\u001b[0m]\u001b[0m\n",
      "\u001b[1;35mTrain     9\u001b[0m: 100%|████████████████████████| 394/394 [00:35<00:00, 11.10it/s, \u001b[1;33mGPU RAM: 0.44 G/5.93 G\u001b[0m]\u001b[0m\n",
      "\u001b[1;35mEvaluate   \u001b[0m: 100%|█████████████████████| 6040/6040 [00:22<00:00, 265.48it/s, \u001b[1;33mGPU RAM: 0.44 G/5.93 G\u001b[0m]\u001b[0m\n",
      "\u001b[1;35mTrain    10\u001b[0m: 100%|████████████████████████| 394/394 [00:35<00:00, 11.05it/s, \u001b[1;33mGPU RAM: 0.44 G/5.93 G\u001b[0m]\u001b[0m\n",
      "\u001b[1;35mEvaluate   \u001b[0m: 100%|█████████████████████| 6040/6040 [00:22<00:00, 272.95it/s, \u001b[1;33mGPU RAM: 0.44 G/5.93 G\u001b[0m]\u001b[0m\n",
      "\u001b[1;35mTrain    11\u001b[0m: 100%|████████████████████████| 394/394 [00:35<00:00, 11.04it/s, \u001b[1;33mGPU RAM: 0.44 G/5.93 G\u001b[0m]\u001b[0m\n",
      "\u001b[1;35mEvaluate   \u001b[0m: 100%|█████████████████████| 6040/6040 [00:21<00:00, 275.83it/s, \u001b[1;33mGPU RAM: 0.44 G/5.93 G\u001b[0m]\u001b[0m\n",
      "\u001b[1;35mTrain    12\u001b[0m: 100%|████████████████████████| 394/394 [00:35<00:00, 11.02it/s, \u001b[1;33mGPU RAM: 0.44 G/5.93 G\u001b[0m]\u001b[0m\n",
      "\u001b[1;35mEvaluate   \u001b[0m: 100%|█████████████████████| 6040/6040 [00:22<00:00, 264.17it/s, \u001b[1;33mGPU RAM: 0.44 G/5.93 G\u001b[0m]\u001b[0m\n",
      "\u001b[1;35mTrain    13\u001b[0m: 100%|████████████████████████| 394/394 [00:35<00:00, 11.05it/s, \u001b[1;33mGPU RAM: 0.44 G/5.93 G\u001b[0m]\u001b[0m\n",
      "\u001b[1;35mEvaluate   \u001b[0m: 100%|█████████████████████| 6040/6040 [00:21<00:00, 280.90it/s, \u001b[1;33mGPU RAM: 0.44 G/5.93 G\u001b[0m]\u001b[0m\n",
      "\u001b[1;35mTrain    14\u001b[0m: 100%|████████████████████████| 394/394 [00:35<00:00, 11.04it/s, \u001b[1;33mGPU RAM: 0.44 G/5.93 G\u001b[0m]\u001b[0m\n",
      "\u001b[1;35mEvaluate   \u001b[0m: 100%|█████████████████████| 6040/6040 [00:22<00:00, 271.82it/s, \u001b[1;33mGPU RAM: 0.44 G/5.93 G\u001b[0m]\u001b[0m\n",
      "\u001b[1;35mTrain    15\u001b[0m: 100%|████████████████████████| 394/394 [00:36<00:00, 10.92it/s, \u001b[1;33mGPU RAM: 0.44 G/5.93 G\u001b[0m]\u001b[0m\n",
      "\u001b[1;35mEvaluate   \u001b[0m: 100%|█████████████████████| 6040/6040 [00:21<00:00, 286.19it/s, \u001b[1;33mGPU RAM: 0.44 G/5.93 G\u001b[0m]\u001b[0m\n",
      "\u001b[1;35mTrain    16\u001b[0m: 100%|████████████████████████| 394/394 [00:35<00:00, 10.96it/s, \u001b[1;33mGPU RAM: 0.44 G/5.93 G\u001b[0m]\u001b[0m\n",
      "\u001b[1;35mEvaluate   \u001b[0m: 100%|█████████████████████| 6040/6040 [00:22<00:00, 274.42it/s, \u001b[1;33mGPU RAM: 0.44 G/5.93 G\u001b[0m]\u001b[0m\n",
      "\u001b[1;35mTrain    17\u001b[0m: 100%|████████████████████████| 394/394 [00:35<00:00, 11.15it/s, \u001b[1;33mGPU RAM: 0.44 G/5.93 G\u001b[0m]\u001b[0m\n",
      "\u001b[1;35mEvaluate   \u001b[0m: 100%|█████████████████████| 6040/6040 [00:22<00:00, 271.70it/s, \u001b[1;33mGPU RAM: 0.44 G/5.93 G\u001b[0m]\u001b[0m\n",
      "\u001b[1;35mTrain    18\u001b[0m: 100%|████████████████████████| 394/394 [00:34<00:00, 11.28it/s, \u001b[1;33mGPU RAM: 0.44 G/5.93 G\u001b[0m]\u001b[0m\n",
      "\u001b[1;35mEvaluate   \u001b[0m: 100%|█████████████████████| 6040/6040 [00:21<00:00, 285.40it/s, \u001b[1;33mGPU RAM: 0.44 G/5.93 G\u001b[0m]\u001b[0m\n",
      "\u001b[1;35mTrain    19\u001b[0m: 100%|████████████████████████| 394/394 [00:35<00:00, 11.15it/s, \u001b[1;33mGPU RAM: 0.44 G/5.93 G\u001b[0m]\u001b[0m\n",
      "\u001b[1;35mEvaluate   \u001b[0m: 100%|█████████████████████| 6040/6040 [00:20<00:00, 291.32it/s, \u001b[1;33mGPU RAM: 0.44 G/5.93 G\u001b[0m]\u001b[0m\n"
     ]
    }
   ],
   "source": [
    "enriched = run_experiment(use_user_features=True)"
   ]
  },
  {
   "cell_type": "code",
   "execution_count": 176,
   "id": "d1fd583e",
   "metadata": {},
   "outputs": [
    {
     "data": {
      "text/plain": [
       "OrderedDict([('recall@10', 0.1279),\n",
       "             ('mrr@10', 0.4063),\n",
       "             ('ndcg@10', 0.2185),\n",
       "             ('hit@10', 0.6714),\n",
       "             ('precision@10', 0.1708)])"
      ]
     },
     "execution_count": 176,
     "metadata": {},
     "output_type": "execute_result"
    }
   ],
   "source": [
    "enriched"
   ]
  },
  {
   "cell_type": "code",
   "execution_count": null,
   "id": "4e7b876d",
   "metadata": {},
   "outputs": [],
   "source": [
    "EPOCHS         = 60\n",
    "b= run_experiment(use_user_features=False)"
   ]
  },
  {
   "cell_type": "code",
   "execution_count": null,
   "id": "2a9cd44a",
   "metadata": {},
   "outputs": [],
   "source": [
    "e = run_experiment(use_user_features=True)"
   ]
  },
  {
   "cell_type": "code",
   "execution_count": null,
   "id": "b087a012",
   "metadata": {},
   "outputs": [],
   "source": []
  }
 ],
 "metadata": {
  "kernelspec": {
   "display_name": "sna2",
   "language": "python",
   "name": "python3"
  },
  "language_info": {
   "codemirror_mode": {
    "name": "ipython",
    "version": 3
   },
   "file_extension": ".py",
   "mimetype": "text/x-python",
   "name": "python",
   "nbconvert_exporter": "python",
   "pygments_lexer": "ipython3",
   "version": "3.8.20"
  }
 },
 "nbformat": 4,
 "nbformat_minor": 5
}
